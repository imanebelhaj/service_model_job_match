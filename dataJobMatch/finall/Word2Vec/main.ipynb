{
 "cells": [
  {
   "cell_type": "code",
   "execution_count": 21,
   "metadata": {},
   "outputs": [],
   "source": [
    "import re\n",
    "import pandas as pd\n",
    "import matplotlib.pyplot as plt\n",
    "import seaborn as sns\n",
    "from nltk.corpus import stopwords\n",
    "from nltk.tokenize import word_tokenize\n",
    "from sklearn.feature_extraction.text import TfidfVectorizer\n",
    "from sklearn.metrics.pairwise import cosine_similarity\n",
    "import nltk\n",
    "from gensim.models import Word2Vec\n",
    "import numpy as np\n",
    "from sklearn.metrics.pairwise import cosine_similarity"
   ]
  },
  {
   "cell_type": "code",
   "execution_count": 22,
   "metadata": {},
   "outputs": [
    {
     "name": "stderr",
     "output_type": "stream",
     "text": [
      "[nltk_data] Downloading package stopwords to\n",
      "[nltk_data]     C:\\Users\\imane\\AppData\\Roaming\\nltk_data...\n",
      "[nltk_data]   Package stopwords is already up-to-date!\n",
      "[nltk_data] Downloading package punkt_tab to\n",
      "[nltk_data]     C:\\Users\\imane\\AppData\\Roaming\\nltk_data...\n",
      "[nltk_data]   Package punkt_tab is already up-to-date!\n"
     ]
    }
   ],
   "source": [
    "nltk.download(\"stopwords\")\n",
    "nltk.download(\"punkt_tab\")\n",
    "\n",
    "from nltk.corpus import stopwords\n",
    "from nltk.tokenize import word_tokenize\n",
    "# from nltk.stem import WordNetLemmatizer\n",
    "\n"
   ]
  },
  {
   "cell_type": "code",
   "execution_count": 23,
   "metadata": {},
   "outputs": [],
   "source": [
    "stop_words = set(stopwords.words(\"english\"))\n",
    "#lemmatizer = WordNetLemmatizer()\n",
    "\n",
    "# Function to clean and preprocess the text\n",
    "def preprocess_text(text):\n",
    "    # Remove non-alphabetic characters and lower case the text\n",
    "    text = text.lower()\n",
    "    text = re.sub(r'[^a-zA-Z\\s]', '', text)\n",
    "    # Tokenize the text\n",
    "    tokens = word_tokenize(text)\n",
    "    # Remove stopwords\n",
    "    tokens = [word for word in tokens if word not in stop_words]\n",
    "    #tokens = [lemmatizer.lemmatize(word) for word in tokens]  # Lemmatization\n",
    "    return ' '.join(tokens)\n",
    "\n"
   ]
  },
  {
   "cell_type": "code",
   "execution_count": 24,
   "metadata": {},
   "outputs": [],
   "source": [
    "# Load the datasets (replace paths with your actual file paths)\n",
    "resumes = pd.read_csv(\"resumes.csv\")  # Columns: [\"Category\", \"Resume\"]\n",
    "jobs = pd.read_csv(\"jobs.csv\")  # Columns: [\"Job Title\", \"Company\", \"Description\", \"Language\"]\n",
    "\n",
    "\n",
    "# Apply preprocessing to job descriptions and resumes\n",
    "jobs['processed_description'] = jobs['Description'].apply(preprocess_text)\n",
    "jobs = jobs[jobs[\"Language\"] == \"en\"]\n",
    "resumes['processed_text'] = resumes['Resume'].apply(preprocess_text)"
   ]
  },
  {
   "cell_type": "code",
   "execution_count": 25,
   "metadata": {},
   "outputs": [],
   "source": [
    "# Combine both job and resume texts into one list of sentences\n",
    "combined_corpus = jobs['processed_description'].tolist() + resumes['processed_text'].tolist()\n",
    "\n",
    "def train_word2vec_model(corpus):\n",
    "    model = Word2Vec(sentences=corpus, vector_size=100, window=5, min_count=1, workers=4)\n",
    "    return model\n",
    "\n",
    "word2vec_model = train_word2vec_model(combined_corpus)\n"
   ]
  },
  {
   "cell_type": "code",
   "execution_count": 29,
   "metadata": {},
   "outputs": [
    {
     "name": "stdout",
     "output_type": "stream",
     "text": [
      "Word 'python' not found in the vocabulary.\n",
      "Word 'python' not found in the vocabulary.\n"
     ]
    }
   ],
   "source": [
    "# Example: Check if the word 'python' is in the vocabulary\n",
    "query_word = 'python'.lower()  # Normalize the word to lowercase to match preprocessing\n",
    "if query_word in word2vec_model.wv:\n",
    "    # Get the word embedding\n",
    "    word_embedding = word2vec_model.wv[query_word]\n",
    "    print(f\"Embedding for '{query_word}':\\n{word_embedding}\")\n",
    "else:\n",
    "    print(f\"Word '{query_word}' not found in the vocabulary.\")\n",
    "\n",
    "# Example: Get the top 5 most similar words to 'python'\n",
    "if query_word in word2vec_model.wv:\n",
    "    similar_words = word2vec_model.wv.most_similar(query_word, topn=5)\n",
    "    print(f\"Top 5 words most similar to '{query_word}':\")\n",
    "    for word, similarity in similar_words:\n",
    "        print(f\"{word}: {similarity}\")\n",
    "else:\n",
    "    print(f\"Word '{query_word}' not found in the vocabulary.\")"
   ]
  },
  {
   "cell_type": "code",
   "execution_count": null,
   "metadata": {},
   "outputs": [],
   "source": [
    "\n",
    "# Function to get the document embedding by averaging word embeddings\n",
    "def get_document_embedding(text_tokens, model):\n",
    "    embeddings = []\n",
    "    for word in text_tokens:\n",
    "        if word in model.wv:\n",
    "            embeddings.append(model.wv[word])\n",
    "    \n",
    "    if len(embeddings) == 0:\n",
    "        return np.zeros(model.vector_size)  # If no valid embeddings, return zero vector\n",
    "    \n",
    "    return np.mean(embeddings, axis=0)\n",
    "\n",
    "# Get document embeddings for jobs and resumes\n",
    "job_embeddings = jobs['processed_description'].apply(lambda x: get_document_embedding(x, word2vec_model))\n",
    "resume_embeddings = resumes['processed_text'].apply(lambda x: get_document_embedding(x, word2vec_model))\n",
    "\n",
    "# Compute cosine similarity between each resume and job\n",
    "similarity_scores = []\n",
    "for resume_embedding in resume_embeddings:\n",
    "    job_similarities = cosine_similarity([resume_embedding], job_embeddings.tolist())[0]\n",
    "    similarity_scores.append(job_similarities)\n"
   ]
  },
  {
   "cell_type": "code",
   "execution_count": null,
   "metadata": {},
   "outputs": [],
   "source": [
    "# Number of top matches you want to keep\n",
    "top_n_matches = 10\n",
    "\n",
    "# Store matches for each resume\n",
    "matches = []\n",
    "for i, resume in resumes.iterrows():\n",
    "    # Get the top N job indices based on similarity scores\n",
    "    top_job_indices = np.argsort(similarity_scores[i])[-top_n_matches:][::-1]\n",
    "    \n",
    "    # Get the matched jobs and their similarities\n",
    "    top_jobs = jobs.iloc[top_job_indices]\n",
    "    top_similarities = [similarity_scores[i][j] for j in top_job_indices]\n",
    "    \n",
    "    matches.append({\n",
    "        \"Resume_ID\": resume.name,\n",
    "        \"Top_Matched_Jobs\": top_jobs['Job Title'].tolist(),\n",
    "        \"Similarities\": top_similarities\n",
    "    })\n",
    "\n",
    "# Example output for the first resume\n",
    "print(matches[0])\n"
   ]
  }
 ],
 "metadata": {
  "kernelspec": {
   "display_name": ".venv",
   "language": "python",
   "name": "python3"
  },
  "language_info": {
   "codemirror_mode": {
    "name": "ipython",
    "version": 3
   },
   "file_extension": ".py",
   "mimetype": "text/x-python",
   "name": "python",
   "nbconvert_exporter": "python",
   "pygments_lexer": "ipython3",
   "version": "3.11.9"
  }
 },
 "nbformat": 4,
 "nbformat_minor": 2
}
